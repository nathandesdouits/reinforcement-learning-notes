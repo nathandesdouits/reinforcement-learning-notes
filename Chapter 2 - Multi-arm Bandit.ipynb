{
 "metadata": {
  "name": "Chapter 2 - Multi-arm Bandit"
 },
 "nbformat": 3,
 "nbformat_minor": 0,
 "worksheets": [
  {
   "cells": [
    {
     "cell_type": "markdown",
     "metadata": {},
     "source": [
      "$\\DeclareMathOperator*{\\argmin}{argmin}$\n",
      "$\\DeclareMathOperator*{\\argmax}{argmax}$"
     ]
    },
    {
     "cell_type": "heading",
     "level": 1,
     "metadata": {},
     "source": [
      "The n-armed bandit problem"
     ]
    },
    {
     "cell_type": "heading",
     "level": 2,
     "metadata": {},
     "source": [
      "Notes"
     ]
    },
    {
     "cell_type": "heading",
     "level": 3,
     "metadata": {},
     "source": [
      "Problem definition"
     ]
    },
    {
     "cell_type": "markdown",
     "metadata": {},
     "source": [
      "We have $n$ different options (actions) representing $n$ different slot machines.\n",
      "Each action has a given reward, sampled from a stationary probability $q(a)$ only dependent on the chosen action $a$.\n",
      "We want to maximize the (expected) total reward over a given (large) time $T$: $\\sum_{t=1}^{T} R_t$.\n",
      "\n",
      "\n",
      "To do that, we estimate the value $Q_t(a)$ of each action given what we have seen so far.\n",
      "Let $R_t$ the reward at time $t$ and $N_t(a)$ the number of times the action $a$ has been chosen so far.\n",
      "\n"
     ]
    },
    {
     "cell_type": "heading",
     "level": 3,
     "metadata": {},
     "source": [
      "Estimating the value"
     ]
    },
    {
     "cell_type": "markdown",
     "metadata": {},
     "source": [
      "We estimate the value with:\n",
      "\\begin{align}\n",
      "Q_t(a) = \\frac{R_1 + ... + R_{N_{t}(a)}}{N_t(a)}\n",
      "\\end{align}\n",
      "with $Q_t(a) = Q_1(a)$ a default value.\n",
      "With $N_t(a) \\rightarrow \\infty$ we have $Q_t(a) \\rightarrow q(a)$.\n",
      "\n",
      "Step-by-step, this can be calculated using incremental implementation to save computation time:\n",
      "\\begin{align}\n",
      "Q_{k+1} = \\frac{1}{k} \\sum_{i=1}^{k} R_t = ... = Q_k + \\frac{1}{k} \\left( R_k - Q_k \\right)\n",
      "\\end{align}\n",
      "This looks like $\\mathit{NewEstimate} \\leftarrow \\mathit{OldEstimate} + \\mathit{StepSize} \\left( \\mathit{Target} - \\mathit{OldEstimate} \\right)$, with $\\mathit{StepSize} = \\frac{1}{k}$ here.\n",
      "\n",
      "For tasks that never stop this estimation diverges, plus we may be interested in tracking a nonstationary problem.\n",
      "To achieve this, we can introduce a constant step size, that effectively weights recent rewards more heavily:\n",
      "\\begin{align}\n",
      "Q_{k+1} = Q_k + \\alpha \\left( R_k - Q_k \\right) = ... = (1 - \\alpha)^k Q_1 + \\alpha \\sum_{i=1}^k (1 - \\alpha)^{k-i} R_t\n",
      "\\end{align}\n",
      "As it turns out, this defines a weighted average with weights $(1-\\alpha)^k, \\alpha (1-\\alpha)^{k}, ..., \\alpha (1-\\alpha)^{k-i}$ (they sum to 1).\n",
      "\n",
      "By denoting $\\alpha_k(a)$ the weight (step-size) used for the $k$-th selection of action a, we need to have two conditions:\n",
      "\n",
      "1. $\\sum_{k=1}^{\\infty} \\alpha_k(a) = \\infty$, to guarantee that we overcome initial estimate, and\n",
      "2. $\\sum_{k=1}^{\\infty} \\alpha_k^2(a) < \\infty$, to guarantee convergence.\n",
      "\n"
     ]
    },
    {
     "cell_type": "heading",
     "level": 3,
     "metadata": {},
     "source": [
      "Chosing actions"
     ]
    },
    {
     "cell_type": "markdown",
     "metadata": {},
     "source": [
      "To chose the action, the \\textit{greedy} way is to select the one with the highest value: $A_t = \\argmax_a Q_t(a)$.\n",
      "Problem: this does not spend any time to sample other actions to refine the estimates $Q_t(a)$.\n",
      "\n",
      "First solution: $\\epsilon$-greedy algorithms, where $A_t = \\argmax_a Q_t(a)$ $1 - \\epsilon$ of the times and $A_t = uniform(a)$ the other $\\epsilon$ of the times.\n",
      "\n",
      "Second solution: optimistic initial values, to preferentially select unsampled actions.\n",
      "\n",
      "Third solution: *Upper Confidence Bound (UCB)* action selection, with\n",
      "\\begin{equation}\n",
      "A_t = \\argmax_a \\left( Q_t(a) + c \\sqrt{\\frac{\\ln t}{N_t(a)}} \\right)\n",
      "\\end{equation}\n",
      "Rationale: the square-root term is a measure of the uncertainty (or variance) in the estimate of the value of $a$.\n",
      "The higher this term (and c), the higher the chance the action will be taken instead of the optimal action.\n",
      "UCB is often hard to transpose outside of the $n$-armed bandit problem."
     ]
    },
    {
     "cell_type": "heading",
     "level": 3,
     "metadata": {},
     "source": [
      "Gradient bandits"
     ]
    },
    {
     "cell_type": "markdown",
     "metadata": {},
     "source": [
      "Instead of estimating the value of each action, we can estimate the relative preference $H_t(a)$ of one action over others.\n",
      "We then compute the probability of taking action $a$ using the softmax distribution (softmax \"normalizes\" its inputs so that any constant added to all preferences has no effect on the probability):\n",
      "\\begin{equation}\n",
      "Pr(A_t = a) = \\frac{e^{H_t(a)}}{\\sum_{b=1}^{n} e^{H_t(b)}} = \\pi_t(a)\n",
      "\\end{equation}\n",
      "\n",
      "Initially, $H_1(a) = 0$, so every action has the same probability to be chosen.\n",
      "We then use a variation on stochastic gradient ascent to update the preference after each step ($A_t$ is the action taken at step $t$ and $R_t$ the corresponding reward):\n",
      "\\begin{equation}\n",
      "H_{t+1}(A_t) = H_t(A_t) + \\alpha (R_t - \\bar{R}_t) (1 - \\pi_t(A_t))\n",
      "\\end{equation}\n",
      "and\n",
      "\\begin{equation}\n",
      "H_{t+1}(a) = H_t(a) + \\alpha (R_t - \\bar{R}_t) \\pi_t(A_t) \\quad \\forall a \\neq A_t\n",
      "\\end{equation}\n",
      "Explanation: if the reward ($R_t$) is better than the average reward observed thus far ($\\bar{R}_t$), we increase the probability to select $A_t$ and decrease the probabilities of all other actions in proportion to that difference ($R_t - \\bar{R}_t$).\n",
      "On the contrary, if the reward is lower than the current average reward, we decrease $\\pi_t(A_t)$ and increase all others.\n",
      "We increase/decrease more if the selected action had lower probability (thus the $1 - \\pi_t(A_t)$ term).\n"
     ]
    },
    {
     "cell_type": "heading",
     "level": 2,
     "metadata": {},
     "source": [
      "Exercises"
     ]
    },
    {
     "cell_type": "heading",
     "level": 4,
     "metadata": {},
     "source": [
      "Exercise 2.1"
     ]
    },
    {
     "cell_type": "markdown",
     "metadata": {},
     "source": [
      "*In the comparison in fig~2.1, which method will perform best in the long run in terms of cumulative reward, and cumulative probability of selecting the best action?*"
     ]
    },
    {
     "cell_type": "markdown",
     "metadata": {},
     "source": [
      "Because of the law of large numbers, in the long run we have $Q_t(a) \\approx q(a)$ for $\\epsilon$-greedy methods, since each actions will have been sampled a very large number of times.\n",
      "This is of course not true for the greedy method which correctly sample only one action, the one it always choses.\n",
      "For $\\epsilon$-greedy method, in the long run we select the action $A^\\* = \\argmax_a q(a)$ $(1 - \\epsilon)$ of the time and a random action $\\epsilon$ of the time.\n",
      "There doesn't seem to be any exact function that gives the expectation of the maximum of $n$ iid normal variables, I could only find inequalities for large $n$...\n",
      "I computed the value for $n = 10$ using 1 million series of 10 iid normal variables, and got a value of $\\approx 1.54$\n",
      "The average reward when selecting action $A^\\*$ is $\\mathbb{E}[q(A^\\*)] \\approx 1.54$.\n",
      "Meanwhile, let $Z$ be the reward when selection a random action, and $Y \\sim \\mathcal{N}(0,1)$ the noise term added to $q(a)$ when computing the reward.\n",
      "We have:\n",
      "\\begin{align*}\n",
      "\\mathbb{E}[Z] &= \\mathbb{E}[\\mathbb{E}[q(a)] + Y] \\\\\\\n",
      "              &= \\mathbb{E}[q(a)] + \\mathbb{E}[Y] \\\\\\\n",
      "              &= 0\n",
      "\\end{align*}\n",
      "since both random variables $q(a)$ and $Y$ follow a standard normal distribution.\n",
      "All in all, for $\\epsilon$-greedy method, the average expected reward is:\n",
      "\\begin{align*}\n",
      "\\mathbb{E}[\\bar{R}] &= \\epsilon \\mathbb{E}[Z] + (1 - \\epsilon) \\mathbb{E}[q(A^\\*)] \\\\\\\n",
      "                    &\\approx (1 - \\epsilon) \\times 1.54 \\\\\\\n",
      "\\end{align*}\n",
      "Which means 1.39 for $\\epsilon = 0.1$ and 1.52 for $\\epsilon = 0.01$.\n",
      "\n",
      "For the true greedy method, the first action $A^\\dagger$ for which the reward gets over 0 gets chosen everytime (at first approximation).\n",
      "Thus we need to find $\\mathbb{E}[q(A^\\dagger)] = \\mathbb{E}[q(a)| q(a) + Y > 0]$.\n",
      "I could not manage to find a seemingly correct formula unfortunately (but this one should not be too hard for a statistician), so I once again computed an estimate for this number for $n = 10$, and came up with $\\mathbb{E}[q(A^\\dagger)] \\approx 0.56$.\n",
      "This looks a bit weird since in fig~2.1 the average reward of the greedy method is around $1$.\n",
      "\n",
      "For $\\epsilon$-greedy method, the probability of selecting the best action when we decided to chose a random action is obviously $\\frac{1}{n}$.\n",
      "As for when we decide to chose the action with the highest estimated value, I get stuck.\n",
      "We need to find, given $(Y, Z) \\sim \\mathcal{N}(0,1)^2$, the probability $Pr\\{q(a) + Y > q(A^*) + Z\\}$.\n",
      "That honestly seems daunting to me and I would not even know where to begin anyway...\n",
      "Graphically, the curve seems to plateau at around 80\\% for $\\epsilon = 0.1$, and should be plateauing over this value for $\\epsilon = 0.01$.\n",
      "Same for the greedy method, which seems to plateau at around 35\\%.\n"
     ]
    },
    {
     "cell_type": "heading",
     "level": 4,
     "metadata": {},
     "source": [
      "Exercise 2.2"
     ]
    },
    {
     "cell_type": "markdown",
     "metadata": {},
     "source": [
      "*Give pseudocode for a complete algorithm for the $n$-armed bandit problem. Use greedy action selection and incremental computation of action values with $\\alpha = \\frac{1}{k}$ step-size parameter. Assume a function $\\mathit{bandit}(a)$ that takes an action and returns a reward. Use arrays and variables; do not subscript anything by the time index $t$. Indicate how the action values are initialized and updates after each reward. Indicate how the step-size parameters are set for each action as a function of how many times it has been tried.*"
     ]
    },
    {
     "cell_type": "markdown",
     "metadata": {},
     "source": [
      "1. Initialization\n",
      "\n",
      "    * $Q(a) \\leftarrow 0$ for all $a \\in \\mathcal{A}$\n",
      "    * $k(a) \\leftarrow 1$ for all $a \\in \\mathcal{A}$\n",
      "\n",
      "\n",
      "2. Action selection and value update\n",
      "\n",
      "    * Repeat\n",
      "        * $A \\leftarrow \\argmax_a Q(a)$ (resolve ties randomly)\n",
      "        * $R \\leftarrow \\mathit{bandit}(A)$    \n",
      "        * $Q(A) \\leftarrow Q(A) + \\frac{1}{k} (R - Q(A))$\n",
      "        * $k(A) \\leftarrow k(A) + 1$\n",
      "    * until end of epoch"
     ]
    },
    {
     "cell_type": "heading",
     "level": 4,
     "metadata": {},
     "source": [
      "Exercise 2.3"
     ]
    },
    {
     "cell_type": "markdown",
     "metadata": {},
     "source": [
      "If the step-size parameters, $\\alpha_k$, are not constant, then the estimate $Q_k$ is a weighted average of previously received rewards with a weighting different from that given by (2.6). What is the weighting on each prior reward for the general case, analogous to (2.6), in terms of $\\alpha_k$?"
     ]
    },
    {
     "cell_type": "markdown",
     "metadata": {},
     "source": [
      "\\begin{align*}\n",
      "Q_{k+1} &= Q_k + \\alpha_k (R_k - Q_k) \\\\\\\n",
      "        &= \\alpha_k R_k + (1 - \\alpha_k) Q_k \\\\\\\n",
      "        &= \\alpha_k R_k + (1 - \\alpha_k) [\\alpha_{k-1} R_{k-1} + (1 - \\alpha_{k-1}) Q_{k-1}] \\\\\\\n",
      "        &= \\alpha_k R_k + \\alpha_{k-1} (1 - \\alpha_k) R_{k-1} + (1 - \\alpha_{k}) (1 - \\alpha_{k-1}) Q_{k-1} \\\\\\\n",
      "        &= Q_1 \\prod_{i=1}^k (1 - \\alpha_i)  + \\sum_{i=1}^k \\left( \\alpha_i R_i \\prod_{j=i+1}^{k} (1 - \\alpha_j)  \\right) \\\\\\\n",
      "\\end{align*}\n",
      "\n",
      "The weights are then $\\prod_{i=1}^k (1 - \\alpha_i)$ for $Q_1$ and $\\alpha_i R_i \\prod_{j=i+1}^{k} (1 - \\alpha_j)$ for $R_i$."
     ]
    },
    {
     "cell_type": "heading",
     "level": 4,
     "metadata": {},
     "source": [
      "Exercise 2.4 (programming experiment)"
     ]
    },
    {
     "cell_type": "markdown",
     "metadata": {},
     "source": [
      "*Design and conduct an experiment to demonstrate the difficulties that sample-average methods have for nonstationary problems. Use a modified version of the 10-armed testbed in which all the q(a) start out equal and then take independent random walks. Prepare plots like Figure 2.1 for an action-value method using sample averages, incrementally computed by $\\alpha = \\frac{1}{k}$, and another action-value method using a constant step-size parameter, $\\alpha = 0.1$. Use $\\epsilon = 0.1$ and, if necessary, runs longer than 1000 plays.*"
     ]
    },
    {
     "cell_type": "markdown",
     "metadata": {},
     "source": [
      "We first begin by defining a class that models a classic bandit problem:"
     ]
    },
    {
     "cell_type": "code",
     "collapsed": false,
     "input": [
      "import numpy\n",
      "from numpy.random import random, randn, normal, randint\n",
      "\n",
      "class Bandit(object):\n",
      "    \"\"\"\n",
      "    Class that generates an n-armed bandit problem.\n",
      "\n",
      "    Example:\n",
      "    >>> bandit = Bandit(n=20, qa=(0,2), noise=(0,1))\n",
      "    >>> print bandit(0) # get reward for action 0\n",
      "    -0.11000063101723367\n",
      "    >>> print bandit(15) # get reward for action 15\n",
      "    2.0949280547560729\n",
      "    \"\"\"\n",
      "\n",
      "    def __init__(self, n=10, qa=(0,1), noise=(0,1)):\n",
      "        self.n = n\n",
      "        # transform (mean, variance) tuples into samples of size n\n",
      "        if isinstance(qa, tuple):\n",
      "            qa = self.tup2samples(qa)\n",
      "        elif isinstance(qa, (int, float)):\n",
      "            qa = qa * numpy.ones(self.n)\n",
      "        self.qa = qa\n",
      "        self.noise = noise\n",
      "        self.best_actions = []\n",
      "        self.best_rewards = []\n",
      "\n",
      "    def tup2samples(self, tup):\n",
      "        \"\"\"Translate a (mean, variance) tuple into samples of size n.\"\"\"\n",
      "        mu, sigma2 = tup\n",
      "        samples = normal(loc=mu, scale=numpy.sqrt(sigma2), size=self.n)\n",
      "        return samples\n",
      "\n",
      "    def __call__(self, action):\n",
      "        # generate noise\n",
      "        noise = self.tup2samples(self.noise)\n",
      "        # compute the reward for each action\n",
      "        reward = self.qa + noise\n",
      "        # retrieve the best reward and the corresponding action and store it\n",
      "        best_action = reward.argmax()\n",
      "        best_reward = reward[best_action]\n",
      "        self.best_actions.append(best_action)\n",
      "        self.best_rewards.append(best_reward)\n",
      "        # return the reward\n",
      "        return reward[action]\n"
     ],
     "language": "python",
     "metadata": {},
     "outputs": [],
     "prompt_number": 1
    },
    {
     "cell_type": "code",
     "collapsed": false,
     "input": [
      "bandit = Bandit(n=2)\n",
      "print bandit(0), bandit(0), bandit(0)\n",
      "print bandit(1), bandit(1), bandit(1)\n",
      "print bandit.qa"
     ],
     "language": "python",
     "metadata": {},
     "outputs": [
      {
       "output_type": "stream",
       "stream": "stdout",
       "text": [
        "-0.651809528465 0.682272976747 1.06896926255\n",
        "-2.66665776356 -0.370197992827 -1.47963589736\n",
        "[ 0.1928374  -0.89153027]\n"
       ]
      }
     ],
     "prompt_number": 2
    },
    {
     "cell_type": "markdown",
     "metadata": {},
     "source": [
      "We then define a new class DriftingBandit that derives from this class and which defines the drifting bandit problem. "
     ]
    },
    {
     "cell_type": "code",
     "collapsed": false,
     "input": [
      "class DriftingBandit(Bandit):\n",
      "    \"\"\"\n",
      "    Variation of the n-armed bandit problem with drifting action values.\n",
      "    Works exactly the same as a Bandit object, but with an additional parameter at creation (drift_sigma).\n",
      "    \"\"\"\n",
      "\n",
      "    def __init__(self, n=10, qa=0., noise=(0,1), drift_sigma=0.05):\n",
      "        super(DriftingBandit, self).__init__(n=n, qa=qa, noise=noise)\n",
      "        self.drift_sigma = drift_sigma\n",
      "\n",
      "    def __call__(self, action):\n",
      "        reward = super(DriftingBandit, self).__call__(action)\n",
      "        # random walk\n",
      "        self.qa += normal(loc=0., scale=self.drift_sigma, size=self.n)\n",
      "        return reward\n"
     ],
     "language": "python",
     "metadata": {},
     "outputs": [],
     "prompt_number": 3
    },
    {
     "cell_type": "markdown",
     "metadata": {},
     "source": [
      "The default drift is rather gentle while not too slow (sigma = 0.005):"
     ]
    },
    {
     "cell_type": "code",
     "collapsed": false,
     "input": [
      "driftbandit = DriftingBandit(n=2)\n",
      "print driftbandit.qa\n",
      "print driftbandit(0)\n",
      "print driftbandit.qa"
     ],
     "language": "python",
     "metadata": {},
     "outputs": [
      {
       "output_type": "stream",
       "stream": "stdout",
       "text": [
        "[ 0.  0.]\n",
        "-0.60636912894\n",
        "[-0.0110887   0.12374716]\n"
       ]
      }
     ],
     "prompt_number": 4
    },
    {
     "cell_type": "markdown",
     "metadata": {},
     "source": [
      "We then define a new class, EpsGreedyLearner, which uses an $\\epsilon$-greedy action-value method to solve a given bandit problem: "
     ]
    },
    {
     "cell_type": "code",
     "collapsed": false,
     "input": [
      "class EpsGreedyLearner(object):\n",
      "\n",
      "    def __init__(self, bandit, initval=0., eps=0., stepsize='average'):\n",
      "        self.eps = eps\n",
      "        self.bandit = bandit\n",
      "        self.stepsize = stepsize\n",
      "        self.Qa = initval * numpy.ones(self.bandit.n)\n",
      "        self.ka = numpy.ones(self.bandit.n, dtype='int')\n",
      "        self.rewards = []\n",
      "        self.actions = []\n",
      "\n",
      "    def step(self):\n",
      "        \"\"\"Chose an action, retrieve a reward and update the value accordingly.\n",
      "        \"\"\"\n",
      "        if random() > self.eps:\n",
      "            action = self.Qa.argmax()\n",
      "        else:\n",
      "            action = randint(self.bandit.n)\n",
      "        self.ka[action] += 1\n",
      "        reward = self.bandit(action)\n",
      "        self.rewards.append(reward)\n",
      "        self.actions.append(action)\n",
      "        if self.stepsize in ['average', 'mean', 'k']:\n",
      "            self.Qa[action] += (reward - self.Qa[action]) / self.ka[action]\n",
      "        else:\n",
      "            self.Qa[action] += (reward - self.Qa[action]) * self.stepsize\n",
      "        return action, reward\n",
      "\n",
      "    def run(self, nsteps):\n",
      "        \"\"\"Runs the step function $n_{steps}$ times\"\"\"\n",
      "        for t in xrange(nsteps):\n",
      "            self.step()\n",
      "        return self.actions, self.rewards\n",
      "\n"
     ],
     "language": "python",
     "metadata": {},
     "outputs": [],
     "prompt_number": 5
    },
    {
     "cell_type": "markdown",
     "metadata": {},
     "source": [
      "To help us run the experiment smoothly, we will define two helper functions. run_drift instantiates a drifting bandit problem (with default values) and runs the $\\epsilon$-greedy method on this instance for $T$ actions. It returns the actions taken, the rewards recieved, and the steps for which the best action was taken."
     ]
    },
    {
     "cell_type": "code",
     "collapsed": false,
     "input": [
      "def run_drift(T=3000, eps=0.1, initval=0., stepsize='average'):\n",
      "    driftbandit = DriftingBandit()\n",
      "    egreedy = EpsGreedyLearner(driftbandit, eps=eps, initval=initval, stepsize=stepsize)\n",
      "    actions, rewards = egreedy.run(T)\n",
      "    isbest = numpy.asarray(driftbandit.best_actions) == numpy.asarray(actions)\n",
      "    return numpy.asarray(actions), numpy.asarray(rewards), isbest.astype('float')"
     ],
     "language": "python",
     "metadata": {},
     "outputs": [],
     "prompt_number": 22
    },
    {
     "cell_type": "markdown",
     "metadata": {},
     "source": [
      "The experiments function runs run_drift $n$ times, and averages the rewards and number of times the optimal action was taken."
     ]
    },
    {
     "cell_type": "code",
     "collapsed": false,
     "input": [
      "def experiments(n, T=3000, eps=0.1, initval=0., stepsize='average'):\n",
      "    rewds, isb = [], []\n",
      "    for i in xrange(n):\n",
      "        actions, rewards, isbest = run_drift(T=T, eps=eps, initval=initval, stepsize=stepsize)\n",
      "        rewds.append(rewards)\n",
      "        isb.append(isbest)\n",
      "    return numpy.asarray(rewds).mean(axis=0), numpy.asarray(isb).mean(axis=0)"
     ],
     "language": "python",
     "metadata": {},
     "outputs": [],
     "prompt_number": 23
    },
    {
     "cell_type": "markdown",
     "metadata": {},
     "source": [
      "We can use this last function to plot the average rewards and probability to take the best action, for $\\alpha = \\frac{1}{k}$ (blue) and $\\alpha = 0.1$ (green):"
     ]
    },
    {
     "cell_type": "code",
     "collapsed": false,
     "input": [
      "R_avg,   pba_avg   = experiments(1000, stepsize='average')\n",
      "R_const, pba_const = experiments(1000, stepsize=0.1)"
     ],
     "language": "python",
     "metadata": {},
     "outputs": [],
     "prompt_number": 24
    },
    {
     "cell_type": "code",
     "collapsed": false,
     "input": [
      "plot(R_avg, 'b', label='average')\n",
      "plot(R_const, 'g', label='constant')\n",
      "legend(loc=0)"
     ],
     "language": "python",
     "metadata": {},
     "outputs": [
      {
       "output_type": "pyout",
       "prompt_number": 25,
       "text": [
        "<matplotlib.legend.Legend at 0x51b8990>"
       ]
      },
      {
       "output_type": "display_data",
       "png": "[encoded data removed]"
      }
     ],
     "prompt_number": 25
    },
    {
     "cell_type": "code",
     "collapsed": false,
     "input": [
      "plot(pba_avg, 'b', label='average')\n",
      "plot(pba_const, 'g', label='constant')\n",
      "ylim(0,1.)\n",
      "legend(loc=0)"
     ],
     "language": "python",
     "metadata": {},
     "outputs": [
      {
       "output_type": "pyout",
       "prompt_number": 26,
       "text": [
        "<matplotlib.legend.Legend at 0x6d48c10>"
       ]
      },
      {
       "output_type": "display_data",
       "png": "[encoded data removed]"
      }
     ],
     "prompt_number": 26
    },
    {
     "cell_type": "markdown",
     "metadata": {},
     "source": [
      "From those graphs, we see that a fixed step-size consistently outperforms the \"average\" step-size.\n",
      "They also show the difficulty of the action-value method to track a non-stationnary problem.\n",
      "Indeed, the Figure 2.1 in the original manuscript reports probabilities of selecting the best action to be around 80% in the long-run for $\\epsilon = 0.1$.\n",
      "For the same $\\epsilon$ value, this method only reports probabilities of 50-60% - although this number could still increase with a higher number of time steps.\n",
      "\n"
     ]
    },
    {
     "cell_type": "heading",
     "level": 4,
     "metadata": {},
     "source": [
      "Exercise 2.5"
     ]
    },
    {
     "cell_type": "markdown",
     "metadata": {},
     "source": [
      "*The results shown in Figure 2.2 should be quite reliable because they are averages over 2000 individual, randomly chosen 10-armed bandit tasks. Why, then, are there oscillations and spikes in the early part of the curve for the optimistic method? What might make this method perform particularly better or worse, on average, on particular early plays?*"
     ]
    },
    {
     "cell_type": "markdown",
     "metadata": {},
     "source": [
      "Because of the optimistic initial value, the first $n$ actions are effectively chosen randomly among the actions that have not yet been chosen, so the probability of chosing the optimal action is around $\\frac{1}{n}$.\n",
      "However, for $t = n+1$, all actions have already been sampled once, and only once.\n",
      "Thus, at this steps, we have $Q(a) = (1 - \\alpha) Q_1 + \\alpha (q(a) + X)$ for all actions, with $X \\sim \\mathcal{N}(0,1)$.\n",
      "We can thus substract the $(1-\\alpha)Q_1$ term to the estimates of all actions without changing their ordering.\n",
      "The probability of selecting the best action at $t = n+1$ is thus equal to the probability of $q(A^\\*) + X_{A^\\*} > q(a) + X_a$ for all $a \\neq A^\\*$, which is higher than $\\frac{1}{n}$ since $q(A^\\*) \\ge q(a)$ $\\forall a \\neq A^\\*$.\n",
      "The same is true for steps number $2n+1$, but to a lesser extent each time since it is possible that the noise and/or the relative values of $q(a)$ cause the optimal action to be over- or under-sampled.\n",
      "Rapidly, the noise smooths out this behavior.\n",
      "\n"
     ]
    },
    {
     "cell_type": "heading",
     "level": 4,
     "metadata": {},
     "source": [
      "Exercise 2.6"
     ]
    },
    {
     "cell_type": "markdown",
     "metadata": {},
     "source": [
      "*Suppose you face a binary bandit task whose true action values change randomly from play to play. Specifically, suppose that for any play the true values of actions 1 and 2 are respectively 0.1 and 0.2 with probability 0.5 (case A), and 0.9 and 0.8 with probability 0.5 (case B). If you are not able to tell which case you face at any play, what is the best expectation of success you can achieve and how should you behave to achieve it? Now suppose that on each play you are told if you are facing case A or case B (although you still don\u2019t know the true action values). This is an associative search task. What is the best expectation of success you can achieve in this task, and how should you behave to achieve it?*"
     ]
    },
    {
     "cell_type": "markdown",
     "metadata": {},
     "source": [
      "In the case where it is not possible to know which case we face, we have $\\mathbb{E}[R|A=1] = \\mathbb{E}[R|A=1,case=A]p(case=A) + \\mathbb{E}[R|A=1,case=B]p(case=B) = 0.1 \\times 0.5 + 0.9 \\times 0.5 = 0.5$ and $\\mathbb{E}[R|A=2] = 0.5$ too.\n",
      "So expectation of success is the same no matter what action is chosen and equals 0.5.\n",
      "\n",
      "Conversely, in the case where it is possible to know the case we face, we can store the estimate of each action for each case separately.\n",
      "We can use any of the tools described in this chapter to learn these estimated values.\n",
      "In the end, the best expectation of success should be $0.2 \\times 0.5 + 0.9 \\times 0.5 = 0.55$.\n"
     ]
    }
   ],
   "metadata": {}
  }
 ]
}